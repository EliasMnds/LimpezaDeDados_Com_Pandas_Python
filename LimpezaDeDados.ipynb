{
  "nbformat": 4,
  "nbformat_minor": 0,
  "metadata": {
    "colab": {
      "provenance": []
    },
    "kernelspec": {
      "name": "python3",
      "display_name": "Python 3"
    },
    "language_info": {
      "name": "python"
    }
  },
  "cells": [
    {
      "cell_type": "markdown",
      "source": [
        "#### Data mining is the study of collecting, cleaning, processing, analyzing, and gaining useful insights from data. A wide variation exists in terms of the problem domains, applications, formulations, and data representations that are encountered in real applications. Therefore, “data mining” is a broad umbrella term that is used to describe these diﬀerent aspects of data processing.\n",
        "\n",
        "*Data Mining: The Text Book ( Charu C.Aggarwal )*"
      ],
      "metadata": {
        "id": "fJcjQ6LJP2QH"
      }
    },
    {
      "cell_type": "markdown",
      "source": [
        "### **About the data**:\n",
        "\n",
        "Dataset of songs of various artist in the world and for each song is present:\n",
        "\n",
        "* Several statistics of the music version on spotify, including the number of streams;\n",
        "* Number of views of the official music video of the song on youtube."
      ],
      "metadata": {
        "id": "p2E4IaEgm5az"
      }
    },
    {
      "cell_type": "markdown",
      "source": [
        "It includes 26 variables for each of the songs collected from spotify. These variables are briefly described next:\n",
        "\n",
        "* **Track**: name of the song, as visible on the Spotify platform.\n",
        "* **Artist**: name of the artist.\n",
        "* **Url_spotify**: the Url of the artist.\n",
        "* **Album**: the album in wich the song is contained on Spotify.\n",
        "* **Album_type**: indicates if the song is relesead on Spotify as a single or contained in an album.\n",
        "* **Uri**: a spotify link used to find the song through the API.\n",
        "* **Danceability**: describes how suitable a track is for dancing based on a combination of musical elements including tempo, rhythm stability, beat strength, and overall regularity. A value of 0.0 is least danceable and 1.0 is most danceable.\n",
        "* **Energy**: is a measure from 0.0 to 1.0 and represents a perceptual measure of intensity and activity. Typically, energetic tracks feel fast, loud, and noisy. For example, death metal has high energy, while a Bach prelude scores low on the scale. Perceptual features contributing to this attribute include dynamic range, perceived loudness, timbre, onset rate, and general entropy.\n",
        "* **Key**: the key the track is in. Integers map to pitches using standard Pitch Class notation. E.g. 0 = C, 1 = C♯/D♭, 2 = D, and so on. If no key was detected, the value is -1.\n",
        "* **Loudness**: the overall loudness of a track in decibels (dB). Loudness values are averaged across the entire track and are useful for comparing relative loudness of tracks. Loudness is the quality of a sound that is the primary psychological correlate of physical strength (amplitude). Values typically range between -60 and 0 db.\n",
        "* **Speechiness**: detects the presence of spoken words in a track. The more exclusively speech-like the recording (e.g. talk show, audio book, poetry), the closer to 1.0 the attribute value. * Values above 0.66 describe tracks that are probably made entirely of spoken words. Values between 0.33 and 0.66 describe tracks that may contain both music and speech, either in sections or layered, including such cases as rap music. * Values below 0.33 most likely represent music and other non-speech-like tracks.\n",
        "* **Acousticness**: a confidence measure from 0.0 to 1.0 of whether the track is acoustic. 1.0 represents high confidence the track is acoustic.\n",
        "* **Instrumentalness**: predicts whether a track contains no vocals. \"Ooh\" and \"aah\" sounds are treated as instrumental in this context. Rap or spoken word tracks are clearly \"vocal\". The closer the instrumentalness value is to 1.0, the greater likelihood the track contains no vocal content. Values above 0.5 are intended to represent instrumental tracks, but confidence is higher as the value approaches 1.0.\n",
        "* **Liveness**: detects the presence of an audience in the recording. Higher liveness values represent an increased probability that the track was performed live. A value above 0.8 provides strong likelihood that the track is live.\n",
        "* **Valence**: a measure from 0.0 to 1.0 describing the musical positiveness conveyed by a track. Tracks with high valence sound more positive (e.g. happy, cheerful, euphoric), while tracks with low valence sound more negative (e.g. sad, depressed, angry).\n",
        "* **Tempo**: the overall estimated tempo of a track in beats per minute (BPM). In musical terminology, tempo is the speed or pace of a given piece and derives directly from the average beat duration.\n",
        "* **Duration_ms**: the duration of the track in milliseconds.\n",
        "* **Stream**: number of streams of the song on Spotify.\n",
        "* **Url_youtube**: url of the video linked to the song on Youtube, if it have any.\n",
        "* **Title**: title of the videoclip on youtube.\n",
        "* **Channel**: name of the channel that have published the video.\n",
        "* **Views**: number of views.\n",
        "* **Likes**: number of likes.\n",
        "* **Comments**: number of comments.\n",
        "* **Description**: description of the video on Youtube.\n",
        "* **Licensed**: Indicates whether the video represents licensed content, which means that the content was uploaded to a channel linked to a YouTube content partner and then claimed by that partner.\n",
        "* **official_video**: boolean value that indicates if the video found is the official video of the song."
      ],
      "metadata": {
        "id": "6BfbsgbpnkfL"
      }
    },
    {
      "cell_type": "code",
      "source": [
        "import pandas as pd\n",
        "\n",
        "doc = \"/content/Spotify_Youtube.csv\"\n",
        "\n",
        "data = pd.read_csv(doc)"
      ],
      "metadata": {
        "id": "WMNjEZrZpVBN"
      },
      "execution_count": 25,
      "outputs": []
    },
    {
      "cell_type": "code",
      "source": [
        "data.head()"
      ],
      "metadata": {
        "colab": {
          "base_uri": "https://localhost:8080/",
          "height": 716
        },
        "id": "YW_IpFErpxVt",
        "outputId": "4d397ecc-80a6-4b29-aeef-81ad322166ad"
      },
      "execution_count": 26,
      "outputs": [
        {
          "output_type": "execute_result",
          "data": {
            "text/plain": [
              "   Unnamed: 0    Artist                                        Url_spotify  \\\n",
              "0           0  Gorillaz  https://open.spotify.com/artist/3AA28KZvwAUcZu...   \n",
              "1           1  Gorillaz  https://open.spotify.com/artist/3AA28KZvwAUcZu...   \n",
              "2           2  Gorillaz  https://open.spotify.com/artist/3AA28KZvwAUcZu...   \n",
              "3           3  Gorillaz  https://open.spotify.com/artist/3AA28KZvwAUcZu...   \n",
              "4           4  Gorillaz  https://open.spotify.com/artist/3AA28KZvwAUcZu...   \n",
              "\n",
              "                                           Track  \\\n",
              "0                                 Feel Good Inc.   \n",
              "1                                Rhinestone Eyes   \n",
              "2  New Gold (feat. Tame Impala and Bootie Brown)   \n",
              "3                             On Melancholy Hill   \n",
              "4                                 Clint Eastwood   \n",
              "\n",
              "                                           Album Album_type  \\\n",
              "0                                     Demon Days      album   \n",
              "1                                  Plastic Beach      album   \n",
              "2  New Gold (feat. Tame Impala and Bootie Brown)     single   \n",
              "3                                  Plastic Beach      album   \n",
              "4                                       Gorillaz      album   \n",
              "\n",
              "                                    Uri  Danceability  Energy   Key  ...  \\\n",
              "0  spotify:track:0d28khcov6AiegSCpG5TuT         0.818   0.705   6.0  ...   \n",
              "1  spotify:track:1foMv2HQwfQ2vntFf9HFeG         0.676   0.703   8.0  ...   \n",
              "2  spotify:track:64dLd6rVqDLtkXFYrEUHIU         0.695   0.923   1.0  ...   \n",
              "3  spotify:track:0q6LuUqGLUiCPP1cbdwFs3         0.689   0.739   2.0  ...   \n",
              "4  spotify:track:7yMiX7n9SBvadzox8T5jzT         0.663   0.694  10.0  ...   \n",
              "\n",
              "                                   Url_youtube  \\\n",
              "0  https://www.youtube.com/watch?v=HyHNuVaZJ-k   \n",
              "1  https://www.youtube.com/watch?v=yYDmaexVHic   \n",
              "2  https://www.youtube.com/watch?v=qJa-VFwPpYA   \n",
              "3  https://www.youtube.com/watch?v=04mfKJWDSzI   \n",
              "4  https://www.youtube.com/watch?v=1V_xRb0x9aw   \n",
              "\n",
              "                                               Title   Channel        Views  \\\n",
              "0         Gorillaz - Feel Good Inc. (Official Video)  Gorillaz  693555221.0   \n",
              "1  Gorillaz - Rhinestone Eyes [Storyboard Film] (...  Gorillaz   72011645.0   \n",
              "2  Gorillaz - New Gold ft. Tame Impala & Bootie B...  Gorillaz    8435055.0   \n",
              "3     Gorillaz - On Melancholy Hill (Official Video)  Gorillaz  211754952.0   \n",
              "4         Gorillaz - Clint Eastwood (Official Video)  Gorillaz  618480958.0   \n",
              "\n",
              "       Likes  Comments                                        Description  \\\n",
              "0  6220896.0  169907.0  Official HD Video for Gorillaz' fantastic trac...   \n",
              "1  1079128.0   31003.0  The official video for Gorillaz - Rhinestone E...   \n",
              "2   282142.0    7399.0  Gorillaz - New Gold ft. Tame Impala & Bootie B...   \n",
              "3  1788577.0   55229.0  Follow Gorillaz online:\\nhttp://gorillaz.com \\...   \n",
              "4  6197318.0  155930.0  The official music video for Gorillaz - Clint ...   \n",
              "\n",
              "   Licensed official_video        Stream  \n",
              "0      True           True  1.040235e+09  \n",
              "1      True           True  3.100837e+08  \n",
              "2      True           True  6.306347e+07  \n",
              "3      True           True  4.346636e+08  \n",
              "4      True           True  6.172597e+08  \n",
              "\n",
              "[5 rows x 28 columns]"
            ],
            "text/html": [
              "\n",
              "\n",
              "  <div id=\"df-db94c581-0908-498a-bd0c-eb290df3c200\">\n",
              "    <div class=\"colab-df-container\">\n",
              "      <div>\n",
              "<style scoped>\n",
              "    .dataframe tbody tr th:only-of-type {\n",
              "        vertical-align: middle;\n",
              "    }\n",
              "\n",
              "    .dataframe tbody tr th {\n",
              "        vertical-align: top;\n",
              "    }\n",
              "\n",
              "    .dataframe thead th {\n",
              "        text-align: right;\n",
              "    }\n",
              "</style>\n",
              "<table border=\"1\" class=\"dataframe\">\n",
              "  <thead>\n",
              "    <tr style=\"text-align: right;\">\n",
              "      <th></th>\n",
              "      <th>Unnamed: 0</th>\n",
              "      <th>Artist</th>\n",
              "      <th>Url_spotify</th>\n",
              "      <th>Track</th>\n",
              "      <th>Album</th>\n",
              "      <th>Album_type</th>\n",
              "      <th>Uri</th>\n",
              "      <th>Danceability</th>\n",
              "      <th>Energy</th>\n",
              "      <th>Key</th>\n",
              "      <th>...</th>\n",
              "      <th>Url_youtube</th>\n",
              "      <th>Title</th>\n",
              "      <th>Channel</th>\n",
              "      <th>Views</th>\n",
              "      <th>Likes</th>\n",
              "      <th>Comments</th>\n",
              "      <th>Description</th>\n",
              "      <th>Licensed</th>\n",
              "      <th>official_video</th>\n",
              "      <th>Stream</th>\n",
              "    </tr>\n",
              "  </thead>\n",
              "  <tbody>\n",
              "    <tr>\n",
              "      <th>0</th>\n",
              "      <td>0</td>\n",
              "      <td>Gorillaz</td>\n",
              "      <td>https://open.spotify.com/artist/3AA28KZvwAUcZu...</td>\n",
              "      <td>Feel Good Inc.</td>\n",
              "      <td>Demon Days</td>\n",
              "      <td>album</td>\n",
              "      <td>spotify:track:0d28khcov6AiegSCpG5TuT</td>\n",
              "      <td>0.818</td>\n",
              "      <td>0.705</td>\n",
              "      <td>6.0</td>\n",
              "      <td>...</td>\n",
              "      <td>https://www.youtube.com/watch?v=HyHNuVaZJ-k</td>\n",
              "      <td>Gorillaz - Feel Good Inc. (Official Video)</td>\n",
              "      <td>Gorillaz</td>\n",
              "      <td>693555221.0</td>\n",
              "      <td>6220896.0</td>\n",
              "      <td>169907.0</td>\n",
              "      <td>Official HD Video for Gorillaz' fantastic trac...</td>\n",
              "      <td>True</td>\n",
              "      <td>True</td>\n",
              "      <td>1.040235e+09</td>\n",
              "    </tr>\n",
              "    <tr>\n",
              "      <th>1</th>\n",
              "      <td>1</td>\n",
              "      <td>Gorillaz</td>\n",
              "      <td>https://open.spotify.com/artist/3AA28KZvwAUcZu...</td>\n",
              "      <td>Rhinestone Eyes</td>\n",
              "      <td>Plastic Beach</td>\n",
              "      <td>album</td>\n",
              "      <td>spotify:track:1foMv2HQwfQ2vntFf9HFeG</td>\n",
              "      <td>0.676</td>\n",
              "      <td>0.703</td>\n",
              "      <td>8.0</td>\n",
              "      <td>...</td>\n",
              "      <td>https://www.youtube.com/watch?v=yYDmaexVHic</td>\n",
              "      <td>Gorillaz - Rhinestone Eyes [Storyboard Film] (...</td>\n",
              "      <td>Gorillaz</td>\n",
              "      <td>72011645.0</td>\n",
              "      <td>1079128.0</td>\n",
              "      <td>31003.0</td>\n",
              "      <td>The official video for Gorillaz - Rhinestone E...</td>\n",
              "      <td>True</td>\n",
              "      <td>True</td>\n",
              "      <td>3.100837e+08</td>\n",
              "    </tr>\n",
              "    <tr>\n",
              "      <th>2</th>\n",
              "      <td>2</td>\n",
              "      <td>Gorillaz</td>\n",
              "      <td>https://open.spotify.com/artist/3AA28KZvwAUcZu...</td>\n",
              "      <td>New Gold (feat. Tame Impala and Bootie Brown)</td>\n",
              "      <td>New Gold (feat. Tame Impala and Bootie Brown)</td>\n",
              "      <td>single</td>\n",
              "      <td>spotify:track:64dLd6rVqDLtkXFYrEUHIU</td>\n",
              "      <td>0.695</td>\n",
              "      <td>0.923</td>\n",
              "      <td>1.0</td>\n",
              "      <td>...</td>\n",
              "      <td>https://www.youtube.com/watch?v=qJa-VFwPpYA</td>\n",
              "      <td>Gorillaz - New Gold ft. Tame Impala &amp; Bootie B...</td>\n",
              "      <td>Gorillaz</td>\n",
              "      <td>8435055.0</td>\n",
              "      <td>282142.0</td>\n",
              "      <td>7399.0</td>\n",
              "      <td>Gorillaz - New Gold ft. Tame Impala &amp; Bootie B...</td>\n",
              "      <td>True</td>\n",
              "      <td>True</td>\n",
              "      <td>6.306347e+07</td>\n",
              "    </tr>\n",
              "    <tr>\n",
              "      <th>3</th>\n",
              "      <td>3</td>\n",
              "      <td>Gorillaz</td>\n",
              "      <td>https://open.spotify.com/artist/3AA28KZvwAUcZu...</td>\n",
              "      <td>On Melancholy Hill</td>\n",
              "      <td>Plastic Beach</td>\n",
              "      <td>album</td>\n",
              "      <td>spotify:track:0q6LuUqGLUiCPP1cbdwFs3</td>\n",
              "      <td>0.689</td>\n",
              "      <td>0.739</td>\n",
              "      <td>2.0</td>\n",
              "      <td>...</td>\n",
              "      <td>https://www.youtube.com/watch?v=04mfKJWDSzI</td>\n",
              "      <td>Gorillaz - On Melancholy Hill (Official Video)</td>\n",
              "      <td>Gorillaz</td>\n",
              "      <td>211754952.0</td>\n",
              "      <td>1788577.0</td>\n",
              "      <td>55229.0</td>\n",
              "      <td>Follow Gorillaz online:\\nhttp://gorillaz.com \\...</td>\n",
              "      <td>True</td>\n",
              "      <td>True</td>\n",
              "      <td>4.346636e+08</td>\n",
              "    </tr>\n",
              "    <tr>\n",
              "      <th>4</th>\n",
              "      <td>4</td>\n",
              "      <td>Gorillaz</td>\n",
              "      <td>https://open.spotify.com/artist/3AA28KZvwAUcZu...</td>\n",
              "      <td>Clint Eastwood</td>\n",
              "      <td>Gorillaz</td>\n",
              "      <td>album</td>\n",
              "      <td>spotify:track:7yMiX7n9SBvadzox8T5jzT</td>\n",
              "      <td>0.663</td>\n",
              "      <td>0.694</td>\n",
              "      <td>10.0</td>\n",
              "      <td>...</td>\n",
              "      <td>https://www.youtube.com/watch?v=1V_xRb0x9aw</td>\n",
              "      <td>Gorillaz - Clint Eastwood (Official Video)</td>\n",
              "      <td>Gorillaz</td>\n",
              "      <td>618480958.0</td>\n",
              "      <td>6197318.0</td>\n",
              "      <td>155930.0</td>\n",
              "      <td>The official music video for Gorillaz - Clint ...</td>\n",
              "      <td>True</td>\n",
              "      <td>True</td>\n",
              "      <td>6.172597e+08</td>\n",
              "    </tr>\n",
              "  </tbody>\n",
              "</table>\n",
              "<p>5 rows × 28 columns</p>\n",
              "</div>\n",
              "      <button class=\"colab-df-convert\" onclick=\"convertToInteractive('df-db94c581-0908-498a-bd0c-eb290df3c200')\"\n",
              "              title=\"Convert this dataframe to an interactive table.\"\n",
              "              style=\"display:none;\">\n",
              "\n",
              "  <svg xmlns=\"http://www.w3.org/2000/svg\" height=\"24px\"viewBox=\"0 0 24 24\"\n",
              "       width=\"24px\">\n",
              "    <path d=\"M0 0h24v24H0V0z\" fill=\"none\"/>\n",
              "    <path d=\"M18.56 5.44l.94 2.06.94-2.06 2.06-.94-2.06-.94-.94-2.06-.94 2.06-2.06.94zm-11 1L8.5 8.5l.94-2.06 2.06-.94-2.06-.94L8.5 2.5l-.94 2.06-2.06.94zm10 10l.94 2.06.94-2.06 2.06-.94-2.06-.94-.94-2.06-.94 2.06-2.06.94z\"/><path d=\"M17.41 7.96l-1.37-1.37c-.4-.4-.92-.59-1.43-.59-.52 0-1.04.2-1.43.59L10.3 9.45l-7.72 7.72c-.78.78-.78 2.05 0 2.83L4 21.41c.39.39.9.59 1.41.59.51 0 1.02-.2 1.41-.59l7.78-7.78 2.81-2.81c.8-.78.8-2.07 0-2.86zM5.41 20L4 18.59l7.72-7.72 1.47 1.35L5.41 20z\"/>\n",
              "  </svg>\n",
              "      </button>\n",
              "\n",
              "\n",
              "\n",
              "    <div id=\"df-2a6412ae-1eb2-4e4f-868e-8056c47bc16e\">\n",
              "      <button class=\"colab-df-quickchart\" onclick=\"quickchart('df-2a6412ae-1eb2-4e4f-868e-8056c47bc16e')\"\n",
              "              title=\"Suggest charts.\"\n",
              "              style=\"display:none;\">\n",
              "\n",
              "<svg xmlns=\"http://www.w3.org/2000/svg\" height=\"24px\"viewBox=\"0 0 24 24\"\n",
              "     width=\"24px\">\n",
              "    <g>\n",
              "        <path d=\"M19 3H5c-1.1 0-2 .9-2 2v14c0 1.1.9 2 2 2h14c1.1 0 2-.9 2-2V5c0-1.1-.9-2-2-2zM9 17H7v-7h2v7zm4 0h-2V7h2v10zm4 0h-2v-4h2v4z\"/>\n",
              "    </g>\n",
              "</svg>\n",
              "      </button>\n",
              "    </div>\n",
              "\n",
              "<style>\n",
              "  .colab-df-quickchart {\n",
              "    background-color: #E8F0FE;\n",
              "    border: none;\n",
              "    border-radius: 50%;\n",
              "    cursor: pointer;\n",
              "    display: none;\n",
              "    fill: #1967D2;\n",
              "    height: 32px;\n",
              "    padding: 0 0 0 0;\n",
              "    width: 32px;\n",
              "  }\n",
              "\n",
              "  .colab-df-quickchart:hover {\n",
              "    background-color: #E2EBFA;\n",
              "    box-shadow: 0px 1px 2px rgba(60, 64, 67, 0.3), 0px 1px 3px 1px rgba(60, 64, 67, 0.15);\n",
              "    fill: #174EA6;\n",
              "  }\n",
              "\n",
              "  [theme=dark] .colab-df-quickchart {\n",
              "    background-color: #3B4455;\n",
              "    fill: #D2E3FC;\n",
              "  }\n",
              "\n",
              "  [theme=dark] .colab-df-quickchart:hover {\n",
              "    background-color: #434B5C;\n",
              "    box-shadow: 0px 1px 3px 1px rgba(0, 0, 0, 0.15);\n",
              "    filter: drop-shadow(0px 1px 2px rgba(0, 0, 0, 0.3));\n",
              "    fill: #FFFFFF;\n",
              "  }\n",
              "</style>\n",
              "\n",
              "    <script>\n",
              "      async function quickchart(key) {\n",
              "        const containerElement = document.querySelector('#' + key);\n",
              "        const charts = await google.colab.kernel.invokeFunction(\n",
              "            'suggestCharts', [key], {});\n",
              "      }\n",
              "    </script>\n",
              "\n",
              "      <script>\n",
              "\n",
              "function displayQuickchartButton(domScope) {\n",
              "  let quickchartButtonEl =\n",
              "    domScope.querySelector('#df-2a6412ae-1eb2-4e4f-868e-8056c47bc16e button.colab-df-quickchart');\n",
              "  quickchartButtonEl.style.display =\n",
              "    google.colab.kernel.accessAllowed ? 'block' : 'none';\n",
              "}\n",
              "\n",
              "        displayQuickchartButton(document);\n",
              "      </script>\n",
              "      <style>\n",
              "    .colab-df-container {\n",
              "      display:flex;\n",
              "      flex-wrap:wrap;\n",
              "      gap: 12px;\n",
              "    }\n",
              "\n",
              "    .colab-df-convert {\n",
              "      background-color: #E8F0FE;\n",
              "      border: none;\n",
              "      border-radius: 50%;\n",
              "      cursor: pointer;\n",
              "      display: none;\n",
              "      fill: #1967D2;\n",
              "      height: 32px;\n",
              "      padding: 0 0 0 0;\n",
              "      width: 32px;\n",
              "    }\n",
              "\n",
              "    .colab-df-convert:hover {\n",
              "      background-color: #E2EBFA;\n",
              "      box-shadow: 0px 1px 2px rgba(60, 64, 67, 0.3), 0px 1px 3px 1px rgba(60, 64, 67, 0.15);\n",
              "      fill: #174EA6;\n",
              "    }\n",
              "\n",
              "    [theme=dark] .colab-df-convert {\n",
              "      background-color: #3B4455;\n",
              "      fill: #D2E3FC;\n",
              "    }\n",
              "\n",
              "    [theme=dark] .colab-df-convert:hover {\n",
              "      background-color: #434B5C;\n",
              "      box-shadow: 0px 1px 3px 1px rgba(0, 0, 0, 0.15);\n",
              "      filter: drop-shadow(0px 1px 2px rgba(0, 0, 0, 0.3));\n",
              "      fill: #FFFFFF;\n",
              "    }\n",
              "  </style>\n",
              "\n",
              "      <script>\n",
              "        const buttonEl =\n",
              "          document.querySelector('#df-db94c581-0908-498a-bd0c-eb290df3c200 button.colab-df-convert');\n",
              "        buttonEl.style.display =\n",
              "          google.colab.kernel.accessAllowed ? 'block' : 'none';\n",
              "\n",
              "        async function convertToInteractive(key) {\n",
              "          const element = document.querySelector('#df-db94c581-0908-498a-bd0c-eb290df3c200');\n",
              "          const dataTable =\n",
              "            await google.colab.kernel.invokeFunction('convertToInteractive',\n",
              "                                                     [key], {});\n",
              "          if (!dataTable) return;\n",
              "\n",
              "          const docLinkHtml = 'Like what you see? Visit the ' +\n",
              "            '<a target=\"_blank\" href=https://colab.research.google.com/notebooks/data_table.ipynb>data table notebook</a>'\n",
              "            + ' to learn more about interactive tables.';\n",
              "          element.innerHTML = '';\n",
              "          dataTable['output_type'] = 'display_data';\n",
              "          await google.colab.output.renderOutput(dataTable, element);\n",
              "          const docLink = document.createElement('div');\n",
              "          docLink.innerHTML = docLinkHtml;\n",
              "          element.appendChild(docLink);\n",
              "        }\n",
              "      </script>\n",
              "    </div>\n",
              "  </div>\n"
            ]
          },
          "metadata": {},
          "execution_count": 26
        }
      ]
    },
    {
      "cell_type": "markdown",
      "source": [
        "#### **Data Cleaning**: The extracted data may have erroneous or missing entries. Therefore, some records may need to be dropped, or missing entries may need to be estimated. Inconsistencies may need to be removed.\n",
        "\n",
        "*Data Mining: The Text Book*"
      ],
      "metadata": {
        "id": "XKpIaX80Z23J"
      }
    },
    {
      "cell_type": "code",
      "source": [
        "data.info()"
      ],
      "metadata": {
        "colab": {
          "base_uri": "https://localhost:8080/"
        },
        "id": "Wmx3oZ8E5JK4",
        "outputId": "cba7d8ba-fa01-4173-de75-662e87043003"
      },
      "execution_count": 27,
      "outputs": [
        {
          "output_type": "stream",
          "name": "stdout",
          "text": [
            "<class 'pandas.core.frame.DataFrame'>\n",
            "RangeIndex: 20718 entries, 0 to 20717\n",
            "Data columns (total 28 columns):\n",
            " #   Column            Non-Null Count  Dtype  \n",
            "---  ------            --------------  -----  \n",
            " 0   Unnamed: 0        20718 non-null  int64  \n",
            " 1   Artist            20718 non-null  object \n",
            " 2   Url_spotify       20718 non-null  object \n",
            " 3   Track             20718 non-null  object \n",
            " 4   Album             20718 non-null  object \n",
            " 5   Album_type        20718 non-null  object \n",
            " 6   Uri               20718 non-null  object \n",
            " 7   Danceability      20716 non-null  float64\n",
            " 8   Energy            20716 non-null  float64\n",
            " 9   Key               20716 non-null  float64\n",
            " 10  Loudness          20716 non-null  float64\n",
            " 11  Speechiness       20716 non-null  float64\n",
            " 12  Acousticness      20716 non-null  float64\n",
            " 13  Instrumentalness  20716 non-null  float64\n",
            " 14  Liveness          20716 non-null  float64\n",
            " 15  Valence           20716 non-null  float64\n",
            " 16  Tempo             20716 non-null  float64\n",
            " 17  Duration_ms       20716 non-null  float64\n",
            " 18  Url_youtube       20248 non-null  object \n",
            " 19  Title             20248 non-null  object \n",
            " 20  Channel           20248 non-null  object \n",
            " 21  Views             20248 non-null  float64\n",
            " 22  Likes             20177 non-null  float64\n",
            " 23  Comments          20149 non-null  float64\n",
            " 24  Description       19842 non-null  object \n",
            " 25  Licensed          20248 non-null  object \n",
            " 26  official_video    20248 non-null  object \n",
            " 27  Stream            20142 non-null  float64\n",
            "dtypes: float64(15), int64(1), object(12)\n",
            "memory usage: 4.4+ MB\n"
          ]
        }
      ]
    },
    {
      "cell_type": "code",
      "source": [
        "#Select only the features object\n",
        "objectType = data.select_dtypes(include='object')\n",
        "\n",
        "#Select only the features float64\n",
        "floatType = data.select_dtypes(include='float64')"
      ],
      "metadata": {
        "id": "EVYUIHQ9_E-b"
      },
      "execution_count": 28,
      "outputs": []
    },
    {
      "cell_type": "markdown",
      "source": [
        "#### **Handling Missing Entries**"
      ],
      "metadata": {
        "id": "4X7ahKFt464C"
      }
    },
    {
      "cell_type": "markdown",
      "source": [
        "Three\n",
        "classes of techniques are used to handle missing entries:\n",
        "\n",
        "1. Any data record containing a missing entry may be eliminated entirely. However, this\n",
        "approach may not be practical when most of the records contain missing entries.\n",
        "2. The missing values may be estimated or imputed. However, errors created by the\n",
        "imputation process may aﬀect the results of the data mining algorithm.\n",
        "3. The analytical phase is designed in such a way that it can work with missing values.\n",
        "Many data mining methods are inherently designed to work robustly with missing\n",
        "values. This approach is usually the most desirable because it avoids the additional\n",
        "biases inherent in the imputation process."
      ],
      "metadata": {
        "id": "N4FynOw9o9aH"
      }
    },
    {
      "cell_type": "code",
      "source": [
        "def count_missing_values(dataColumns):\n",
        "  for e in dataColumns:\n",
        "    missing_values = data[e].isna().mean() * 100\n",
        "    pct = missing_values\n",
        "    if(missing_values != 0):\n",
        "      print('- {} -> {}% is missing values'.format(e,round(pct,5)))"
      ],
      "metadata": {
        "id": "GvRCqKCB3k3O"
      },
      "execution_count": 29,
      "outputs": []
    },
    {
      "cell_type": "code",
      "source": [
        "print(\"Float64 Features:\")\n",
        "count_missing_values(floatType)"
      ],
      "metadata": {
        "colab": {
          "base_uri": "https://localhost:8080/"
        },
        "id": "sm-neP-YADPy",
        "outputId": "67702f91-a793-4e3e-f3d4-bdd55b5fe42f"
      },
      "execution_count": 30,
      "outputs": [
        {
          "output_type": "stream",
          "name": "stdout",
          "text": [
            "Float64 Features:\n",
            "- Danceability -> 0.00965% is missing values\n",
            "- Energy -> 0.00965% is missing values\n",
            "- Key -> 0.00965% is missing values\n",
            "- Loudness -> 0.00965% is missing values\n",
            "- Speechiness -> 0.00965% is missing values\n",
            "- Acousticness -> 0.00965% is missing values\n",
            "- Instrumentalness -> 0.00965% is missing values\n",
            "- Liveness -> 0.00965% is missing values\n",
            "- Valence -> 0.00965% is missing values\n",
            "- Tempo -> 0.00965% is missing values\n",
            "- Duration_ms -> 0.00965% is missing values\n",
            "- Views -> 2.26856% is missing values\n",
            "- Likes -> 2.61126% is missing values\n",
            "- Comments -> 2.7464% is missing values\n",
            "- Stream -> 2.78019% is missing values\n"
          ]
        }
      ]
    },
    {
      "cell_type": "code",
      "source": [
        "print(\"Object Features:\")\n",
        "count_missing_values(objectType)"
      ],
      "metadata": {
        "colab": {
          "base_uri": "https://localhost:8080/"
        },
        "id": "KGlIv2xz_7N2",
        "outputId": "eae4540a-ebfd-4d51-dfd9-4196541414bf"
      },
      "execution_count": 31,
      "outputs": [
        {
          "output_type": "stream",
          "name": "stdout",
          "text": [
            "Object Features:\n",
            "- Url_youtube -> 2.26856% is missing values\n",
            "- Title -> 2.26856% is missing values\n",
            "- Channel -> 2.26856% is missing values\n",
            "- Description -> 4.22821% is missing values\n",
            "- Licensed -> 2.26856% is missing values\n",
            "- official_video -> 2.26856% is missing values\n"
          ]
        }
      ]
    },
    {
      "cell_type": "markdown",
      "source": [
        "Knowing the percentage can be useful in determining whether you should drop the column."
      ],
      "metadata": {
        "id": "uJHKW55fLrWf"
      }
    },
    {
      "cell_type": "markdown",
      "source": [
        "Options for correct the missing value in our data:\n",
        "\n",
        "1. Drop the feature\n",
        "2. Drop the row\n",
        "3. Impute the missing value\n",
        "4. Replace it"
      ],
      "metadata": {
        "id": "HNyiX002MTxc"
      }
    },
    {
      "cell_type": "markdown",
      "source": [
        "Considering the small percentage of missing values in my data(=float64). We can fill the missing values with mean value of respective feature."
      ],
      "metadata": {
        "id": "TTK4dnl4ko5G"
      }
    },
    {
      "cell_type": "code",
      "source": [
        "#For float64 features\n",
        "def filling_na_values(dataColumns):\n",
        "  for column in dataColumns:\n",
        "    media = round(data[column].mean(),2)\n",
        "    data[column].fillna(media, inplace=True)\n",
        "\n",
        "#For object features\n",
        "def deleting_na_row(dataColumns):\n",
        "  data.dropna(inplace=True)"
      ],
      "metadata": {
        "id": "ALy6j7A6ASc9"
      },
      "execution_count": 32,
      "outputs": []
    },
    {
      "cell_type": "code",
      "source": [
        "#Filing missing values in features dtype(=float64)\n",
        "filling_na_values(floatType)"
      ],
      "metadata": {
        "id": "Qin6O5CsfkTi"
      },
      "execution_count": 33,
      "outputs": []
    },
    {
      "cell_type": "code",
      "source": [
        "#Dealing with missing values in features dtype(=object)\n",
        "deleting_na_row(objectType)"
      ],
      "metadata": {
        "id": "Zf4LZ4e8v34E"
      },
      "execution_count": 34,
      "outputs": []
    },
    {
      "cell_type": "code",
      "source": [
        "#Checking if that is some missing value\n",
        "print(\"Float64 Features:\")\n",
        "count_missing_values(floatType)"
      ],
      "metadata": {
        "colab": {
          "base_uri": "https://localhost:8080/"
        },
        "id": "QouecmgBgIpX",
        "outputId": "7e2bc630-f360-4b1e-b6e1-565122c1a8d8"
      },
      "execution_count": 35,
      "outputs": [
        {
          "output_type": "stream",
          "name": "stdout",
          "text": [
            "Float64 Features:\n"
          ]
        }
      ]
    },
    {
      "cell_type": "code",
      "source": [
        "#Checking if that is some missing value\n",
        "print(\"Object Features:\")\n",
        "count_missing_values(objectType)"
      ],
      "metadata": {
        "colab": {
          "base_uri": "https://localhost:8080/"
        },
        "id": "sexGxq8NiOWK",
        "outputId": "462140b1-3278-4957-9d01-06182851f53d"
      },
      "execution_count": 36,
      "outputs": [
        {
          "output_type": "stream",
          "name": "stdout",
          "text": [
            "Object Features:\n"
          ]
        }
      ]
    },
    {
      "cell_type": "code",
      "source": [
        "data.info()"
      ],
      "metadata": {
        "colab": {
          "base_uri": "https://localhost:8080/"
        },
        "id": "jABCwXEzwE4Q",
        "outputId": "559d907f-7f75-4a04-da2b-873dc583a03b"
      },
      "execution_count": 37,
      "outputs": [
        {
          "output_type": "stream",
          "name": "stdout",
          "text": [
            "<class 'pandas.core.frame.DataFrame'>\n",
            "Int64Index: 19842 entries, 0 to 20717\n",
            "Data columns (total 28 columns):\n",
            " #   Column            Non-Null Count  Dtype  \n",
            "---  ------            --------------  -----  \n",
            " 0   Unnamed: 0        19842 non-null  int64  \n",
            " 1   Artist            19842 non-null  object \n",
            " 2   Url_spotify       19842 non-null  object \n",
            " 3   Track             19842 non-null  object \n",
            " 4   Album             19842 non-null  object \n",
            " 5   Album_type        19842 non-null  object \n",
            " 6   Uri               19842 non-null  object \n",
            " 7   Danceability      19842 non-null  float64\n",
            " 8   Energy            19842 non-null  float64\n",
            " 9   Key               19842 non-null  float64\n",
            " 10  Loudness          19842 non-null  float64\n",
            " 11  Speechiness       19842 non-null  float64\n",
            " 12  Acousticness      19842 non-null  float64\n",
            " 13  Instrumentalness  19842 non-null  float64\n",
            " 14  Liveness          19842 non-null  float64\n",
            " 15  Valence           19842 non-null  float64\n",
            " 16  Tempo             19842 non-null  float64\n",
            " 17  Duration_ms       19842 non-null  float64\n",
            " 18  Url_youtube       19842 non-null  object \n",
            " 19  Title             19842 non-null  object \n",
            " 20  Channel           19842 non-null  object \n",
            " 21  Views             19842 non-null  float64\n",
            " 22  Likes             19842 non-null  float64\n",
            " 23  Comments          19842 non-null  float64\n",
            " 24  Description       19842 non-null  object \n",
            " 25  Licensed          19842 non-null  object \n",
            " 26  official_video    19842 non-null  object \n",
            " 27  Stream            19842 non-null  float64\n",
            "dtypes: float64(15), int64(1), object(12)\n",
            "memory usage: 4.4+ MB\n"
          ]
        }
      ]
    },
    {
      "cell_type": "code",
      "source": [
        "print(f'Decrease of the dataset: {round(1948/20718 * 100,2)}%')"
      ],
      "metadata": {
        "colab": {
          "base_uri": "https://localhost:8080/"
        },
        "id": "MnGG54KKaYX6",
        "outputId": "28de8d2e-ba3b-4fa1-b06c-ff325d2af1b5"
      },
      "execution_count": 38,
      "outputs": [
        {
          "output_type": "stream",
          "name": "stdout",
          "text": [
            "Decrease of the dataset: 9.4%\n"
          ]
        }
      ]
    },
    {
      "cell_type": "markdown",
      "source": [
        "#### **Handling Incorrect and Inconsistent Entries**"
      ],
      "metadata": {
        "id": "aBQg_JE30MyY"
      }
    },
    {
      "cell_type": "code",
      "source": [
        "data.describe()"
      ],
      "metadata": {
        "colab": {
          "base_uri": "https://localhost:8080/",
          "height": 364
        },
        "id": "PFV2Uf9Uzmp8",
        "outputId": "4a5a4a73-c905-4dcf-d31c-f9977ef92b89"
      },
      "execution_count": 39,
      "outputs": [
        {
          "output_type": "execute_result",
          "data": {
            "text/plain": [
              "         Unnamed: 0  Danceability        Energy           Key      Loudness  \\\n",
              "count  19842.000000  19842.000000  19842.000000  19842.000000  19842.000000   \n",
              "mean   10383.026409      0.620304      0.635991      5.300539     -7.646042   \n",
              "std     5988.656279      0.165338      0.213693      3.578231      4.615562   \n",
              "min        0.000000      0.000000      0.000020      0.000000    -46.251000   \n",
              "25%     5192.250000      0.519000      0.510000      2.000000     -8.796000   \n",
              "50%    10409.500000      0.638000      0.667000      5.000000     -6.519000   \n",
              "75%    15572.750000      0.741000      0.798000      8.000000     -4.931000   \n",
              "max    20717.000000      0.975000      1.000000     11.000000      0.920000   \n",
              "\n",
              "        Speechiness  Acousticness  Instrumentalness      Liveness  \\\n",
              "count  19842.000000  19842.000000      19842.000000  19842.000000   \n",
              "mean       0.095610      0.287864          0.056207      0.191582   \n",
              "std        0.108961      0.285758          0.193514      0.165520   \n",
              "min        0.000000      0.000001          0.000000      0.014500   \n",
              "25%        0.035700      0.043300          0.000000      0.094000   \n",
              "50%        0.050450      0.188000          0.000003      0.125000   \n",
              "75%        0.103000      0.469000          0.000484      0.235000   \n",
              "max        0.964000      0.996000          1.000000      1.000000   \n",
              "\n",
              "            Valence         Tempo   Duration_ms         Views         Likes  \\\n",
              "count  19842.000000  19842.000000  1.984200e+04  1.984200e+04  1.984200e+04   \n",
              "mean       0.528643    120.607750  2.250249e+05  9.571778e+07  6.758923e+05   \n",
              "std        0.245404     29.553742  1.265463e+05  2.771295e+08  1.802057e+06   \n",
              "min        0.000000      0.000000  3.098500e+04  0.000000e+00  0.000000e+00   \n",
              "25%        0.338000     97.008000  1.803330e+05  2.001834e+06  2.388650e+04   \n",
              "50%        0.535000    119.969000  2.135265e+05  1.532750e+07  1.318080e+05   \n",
              "75%        0.725000    139.927750  2.523698e+05  7.207680e+07  5.457658e+05   \n",
              "max        0.993000    243.372000  4.676058e+06  8.079649e+09  5.078865e+07   \n",
              "\n",
              "           Comments        Stream  \n",
              "count  1.984200e+04  1.984200e+04  \n",
              "mean   2.803678e+04  1.380788e+08  \n",
              "std    1.946874e+05  2.440209e+08  \n",
              "min    0.000000e+00  6.574000e+03  \n",
              "25%    5.620000e+02  1.845547e+07  \n",
              "50%    3.499000e+03  5.329141e+07  \n",
              "75%    1.504050e+04  1.361223e+08  \n",
              "max    1.608314e+07  3.386520e+09  "
            ],
            "text/html": [
              "\n",
              "\n",
              "  <div id=\"df-b48c2bb4-8c0d-4436-b396-ae84c7c9b17c\">\n",
              "    <div class=\"colab-df-container\">\n",
              "      <div>\n",
              "<style scoped>\n",
              "    .dataframe tbody tr th:only-of-type {\n",
              "        vertical-align: middle;\n",
              "    }\n",
              "\n",
              "    .dataframe tbody tr th {\n",
              "        vertical-align: top;\n",
              "    }\n",
              "\n",
              "    .dataframe thead th {\n",
              "        text-align: right;\n",
              "    }\n",
              "</style>\n",
              "<table border=\"1\" class=\"dataframe\">\n",
              "  <thead>\n",
              "    <tr style=\"text-align: right;\">\n",
              "      <th></th>\n",
              "      <th>Unnamed: 0</th>\n",
              "      <th>Danceability</th>\n",
              "      <th>Energy</th>\n",
              "      <th>Key</th>\n",
              "      <th>Loudness</th>\n",
              "      <th>Speechiness</th>\n",
              "      <th>Acousticness</th>\n",
              "      <th>Instrumentalness</th>\n",
              "      <th>Liveness</th>\n",
              "      <th>Valence</th>\n",
              "      <th>Tempo</th>\n",
              "      <th>Duration_ms</th>\n",
              "      <th>Views</th>\n",
              "      <th>Likes</th>\n",
              "      <th>Comments</th>\n",
              "      <th>Stream</th>\n",
              "    </tr>\n",
              "  </thead>\n",
              "  <tbody>\n",
              "    <tr>\n",
              "      <th>count</th>\n",
              "      <td>19842.000000</td>\n",
              "      <td>19842.000000</td>\n",
              "      <td>19842.000000</td>\n",
              "      <td>19842.000000</td>\n",
              "      <td>19842.000000</td>\n",
              "      <td>19842.000000</td>\n",
              "      <td>19842.000000</td>\n",
              "      <td>19842.000000</td>\n",
              "      <td>19842.000000</td>\n",
              "      <td>19842.000000</td>\n",
              "      <td>19842.000000</td>\n",
              "      <td>1.984200e+04</td>\n",
              "      <td>1.984200e+04</td>\n",
              "      <td>1.984200e+04</td>\n",
              "      <td>1.984200e+04</td>\n",
              "      <td>1.984200e+04</td>\n",
              "    </tr>\n",
              "    <tr>\n",
              "      <th>mean</th>\n",
              "      <td>10383.026409</td>\n",
              "      <td>0.620304</td>\n",
              "      <td>0.635991</td>\n",
              "      <td>5.300539</td>\n",
              "      <td>-7.646042</td>\n",
              "      <td>0.095610</td>\n",
              "      <td>0.287864</td>\n",
              "      <td>0.056207</td>\n",
              "      <td>0.191582</td>\n",
              "      <td>0.528643</td>\n",
              "      <td>120.607750</td>\n",
              "      <td>2.250249e+05</td>\n",
              "      <td>9.571778e+07</td>\n",
              "      <td>6.758923e+05</td>\n",
              "      <td>2.803678e+04</td>\n",
              "      <td>1.380788e+08</td>\n",
              "    </tr>\n",
              "    <tr>\n",
              "      <th>std</th>\n",
              "      <td>5988.656279</td>\n",
              "      <td>0.165338</td>\n",
              "      <td>0.213693</td>\n",
              "      <td>3.578231</td>\n",
              "      <td>4.615562</td>\n",
              "      <td>0.108961</td>\n",
              "      <td>0.285758</td>\n",
              "      <td>0.193514</td>\n",
              "      <td>0.165520</td>\n",
              "      <td>0.245404</td>\n",
              "      <td>29.553742</td>\n",
              "      <td>1.265463e+05</td>\n",
              "      <td>2.771295e+08</td>\n",
              "      <td>1.802057e+06</td>\n",
              "      <td>1.946874e+05</td>\n",
              "      <td>2.440209e+08</td>\n",
              "    </tr>\n",
              "    <tr>\n",
              "      <th>min</th>\n",
              "      <td>0.000000</td>\n",
              "      <td>0.000000</td>\n",
              "      <td>0.000020</td>\n",
              "      <td>0.000000</td>\n",
              "      <td>-46.251000</td>\n",
              "      <td>0.000000</td>\n",
              "      <td>0.000001</td>\n",
              "      <td>0.000000</td>\n",
              "      <td>0.014500</td>\n",
              "      <td>0.000000</td>\n",
              "      <td>0.000000</td>\n",
              "      <td>3.098500e+04</td>\n",
              "      <td>0.000000e+00</td>\n",
              "      <td>0.000000e+00</td>\n",
              "      <td>0.000000e+00</td>\n",
              "      <td>6.574000e+03</td>\n",
              "    </tr>\n",
              "    <tr>\n",
              "      <th>25%</th>\n",
              "      <td>5192.250000</td>\n",
              "      <td>0.519000</td>\n",
              "      <td>0.510000</td>\n",
              "      <td>2.000000</td>\n",
              "      <td>-8.796000</td>\n",
              "      <td>0.035700</td>\n",
              "      <td>0.043300</td>\n",
              "      <td>0.000000</td>\n",
              "      <td>0.094000</td>\n",
              "      <td>0.338000</td>\n",
              "      <td>97.008000</td>\n",
              "      <td>1.803330e+05</td>\n",
              "      <td>2.001834e+06</td>\n",
              "      <td>2.388650e+04</td>\n",
              "      <td>5.620000e+02</td>\n",
              "      <td>1.845547e+07</td>\n",
              "    </tr>\n",
              "    <tr>\n",
              "      <th>50%</th>\n",
              "      <td>10409.500000</td>\n",
              "      <td>0.638000</td>\n",
              "      <td>0.667000</td>\n",
              "      <td>5.000000</td>\n",
              "      <td>-6.519000</td>\n",
              "      <td>0.050450</td>\n",
              "      <td>0.188000</td>\n",
              "      <td>0.000003</td>\n",
              "      <td>0.125000</td>\n",
              "      <td>0.535000</td>\n",
              "      <td>119.969000</td>\n",
              "      <td>2.135265e+05</td>\n",
              "      <td>1.532750e+07</td>\n",
              "      <td>1.318080e+05</td>\n",
              "      <td>3.499000e+03</td>\n",
              "      <td>5.329141e+07</td>\n",
              "    </tr>\n",
              "    <tr>\n",
              "      <th>75%</th>\n",
              "      <td>15572.750000</td>\n",
              "      <td>0.741000</td>\n",
              "      <td>0.798000</td>\n",
              "      <td>8.000000</td>\n",
              "      <td>-4.931000</td>\n",
              "      <td>0.103000</td>\n",
              "      <td>0.469000</td>\n",
              "      <td>0.000484</td>\n",
              "      <td>0.235000</td>\n",
              "      <td>0.725000</td>\n",
              "      <td>139.927750</td>\n",
              "      <td>2.523698e+05</td>\n",
              "      <td>7.207680e+07</td>\n",
              "      <td>5.457658e+05</td>\n",
              "      <td>1.504050e+04</td>\n",
              "      <td>1.361223e+08</td>\n",
              "    </tr>\n",
              "    <tr>\n",
              "      <th>max</th>\n",
              "      <td>20717.000000</td>\n",
              "      <td>0.975000</td>\n",
              "      <td>1.000000</td>\n",
              "      <td>11.000000</td>\n",
              "      <td>0.920000</td>\n",
              "      <td>0.964000</td>\n",
              "      <td>0.996000</td>\n",
              "      <td>1.000000</td>\n",
              "      <td>1.000000</td>\n",
              "      <td>0.993000</td>\n",
              "      <td>243.372000</td>\n",
              "      <td>4.676058e+06</td>\n",
              "      <td>8.079649e+09</td>\n",
              "      <td>5.078865e+07</td>\n",
              "      <td>1.608314e+07</td>\n",
              "      <td>3.386520e+09</td>\n",
              "    </tr>\n",
              "  </tbody>\n",
              "</table>\n",
              "</div>\n",
              "      <button class=\"colab-df-convert\" onclick=\"convertToInteractive('df-b48c2bb4-8c0d-4436-b396-ae84c7c9b17c')\"\n",
              "              title=\"Convert this dataframe to an interactive table.\"\n",
              "              style=\"display:none;\">\n",
              "\n",
              "  <svg xmlns=\"http://www.w3.org/2000/svg\" height=\"24px\"viewBox=\"0 0 24 24\"\n",
              "       width=\"24px\">\n",
              "    <path d=\"M0 0h24v24H0V0z\" fill=\"none\"/>\n",
              "    <path d=\"M18.56 5.44l.94 2.06.94-2.06 2.06-.94-2.06-.94-.94-2.06-.94 2.06-2.06.94zm-11 1L8.5 8.5l.94-2.06 2.06-.94-2.06-.94L8.5 2.5l-.94 2.06-2.06.94zm10 10l.94 2.06.94-2.06 2.06-.94-2.06-.94-.94-2.06-.94 2.06-2.06.94z\"/><path d=\"M17.41 7.96l-1.37-1.37c-.4-.4-.92-.59-1.43-.59-.52 0-1.04.2-1.43.59L10.3 9.45l-7.72 7.72c-.78.78-.78 2.05 0 2.83L4 21.41c.39.39.9.59 1.41.59.51 0 1.02-.2 1.41-.59l7.78-7.78 2.81-2.81c.8-.78.8-2.07 0-2.86zM5.41 20L4 18.59l7.72-7.72 1.47 1.35L5.41 20z\"/>\n",
              "  </svg>\n",
              "      </button>\n",
              "\n",
              "\n",
              "\n",
              "    <div id=\"df-32dce720-e338-4512-b4b4-f3c1c1b1837e\">\n",
              "      <button class=\"colab-df-quickchart\" onclick=\"quickchart('df-32dce720-e338-4512-b4b4-f3c1c1b1837e')\"\n",
              "              title=\"Suggest charts.\"\n",
              "              style=\"display:none;\">\n",
              "\n",
              "<svg xmlns=\"http://www.w3.org/2000/svg\" height=\"24px\"viewBox=\"0 0 24 24\"\n",
              "     width=\"24px\">\n",
              "    <g>\n",
              "        <path d=\"M19 3H5c-1.1 0-2 .9-2 2v14c0 1.1.9 2 2 2h14c1.1 0 2-.9 2-2V5c0-1.1-.9-2-2-2zM9 17H7v-7h2v7zm4 0h-2V7h2v10zm4 0h-2v-4h2v4z\"/>\n",
              "    </g>\n",
              "</svg>\n",
              "      </button>\n",
              "    </div>\n",
              "\n",
              "<style>\n",
              "  .colab-df-quickchart {\n",
              "    background-color: #E8F0FE;\n",
              "    border: none;\n",
              "    border-radius: 50%;\n",
              "    cursor: pointer;\n",
              "    display: none;\n",
              "    fill: #1967D2;\n",
              "    height: 32px;\n",
              "    padding: 0 0 0 0;\n",
              "    width: 32px;\n",
              "  }\n",
              "\n",
              "  .colab-df-quickchart:hover {\n",
              "    background-color: #E2EBFA;\n",
              "    box-shadow: 0px 1px 2px rgba(60, 64, 67, 0.3), 0px 1px 3px 1px rgba(60, 64, 67, 0.15);\n",
              "    fill: #174EA6;\n",
              "  }\n",
              "\n",
              "  [theme=dark] .colab-df-quickchart {\n",
              "    background-color: #3B4455;\n",
              "    fill: #D2E3FC;\n",
              "  }\n",
              "\n",
              "  [theme=dark] .colab-df-quickchart:hover {\n",
              "    background-color: #434B5C;\n",
              "    box-shadow: 0px 1px 3px 1px rgba(0, 0, 0, 0.15);\n",
              "    filter: drop-shadow(0px 1px 2px rgba(0, 0, 0, 0.3));\n",
              "    fill: #FFFFFF;\n",
              "  }\n",
              "</style>\n",
              "\n",
              "    <script>\n",
              "      async function quickchart(key) {\n",
              "        const containerElement = document.querySelector('#' + key);\n",
              "        const charts = await google.colab.kernel.invokeFunction(\n",
              "            'suggestCharts', [key], {});\n",
              "      }\n",
              "    </script>\n",
              "\n",
              "      <script>\n",
              "\n",
              "function displayQuickchartButton(domScope) {\n",
              "  let quickchartButtonEl =\n",
              "    domScope.querySelector('#df-32dce720-e338-4512-b4b4-f3c1c1b1837e button.colab-df-quickchart');\n",
              "  quickchartButtonEl.style.display =\n",
              "    google.colab.kernel.accessAllowed ? 'block' : 'none';\n",
              "}\n",
              "\n",
              "        displayQuickchartButton(document);\n",
              "      </script>\n",
              "      <style>\n",
              "    .colab-df-container {\n",
              "      display:flex;\n",
              "      flex-wrap:wrap;\n",
              "      gap: 12px;\n",
              "    }\n",
              "\n",
              "    .colab-df-convert {\n",
              "      background-color: #E8F0FE;\n",
              "      border: none;\n",
              "      border-radius: 50%;\n",
              "      cursor: pointer;\n",
              "      display: none;\n",
              "      fill: #1967D2;\n",
              "      height: 32px;\n",
              "      padding: 0 0 0 0;\n",
              "      width: 32px;\n",
              "    }\n",
              "\n",
              "    .colab-df-convert:hover {\n",
              "      background-color: #E2EBFA;\n",
              "      box-shadow: 0px 1px 2px rgba(60, 64, 67, 0.3), 0px 1px 3px 1px rgba(60, 64, 67, 0.15);\n",
              "      fill: #174EA6;\n",
              "    }\n",
              "\n",
              "    [theme=dark] .colab-df-convert {\n",
              "      background-color: #3B4455;\n",
              "      fill: #D2E3FC;\n",
              "    }\n",
              "\n",
              "    [theme=dark] .colab-df-convert:hover {\n",
              "      background-color: #434B5C;\n",
              "      box-shadow: 0px 1px 3px 1px rgba(0, 0, 0, 0.15);\n",
              "      filter: drop-shadow(0px 1px 2px rgba(0, 0, 0, 0.3));\n",
              "      fill: #FFFFFF;\n",
              "    }\n",
              "  </style>\n",
              "\n",
              "      <script>\n",
              "        const buttonEl =\n",
              "          document.querySelector('#df-b48c2bb4-8c0d-4436-b396-ae84c7c9b17c button.colab-df-convert');\n",
              "        buttonEl.style.display =\n",
              "          google.colab.kernel.accessAllowed ? 'block' : 'none';\n",
              "\n",
              "        async function convertToInteractive(key) {\n",
              "          const element = document.querySelector('#df-b48c2bb4-8c0d-4436-b396-ae84c7c9b17c');\n",
              "          const dataTable =\n",
              "            await google.colab.kernel.invokeFunction('convertToInteractive',\n",
              "                                                     [key], {});\n",
              "          if (!dataTable) return;\n",
              "\n",
              "          const docLinkHtml = 'Like what you see? Visit the ' +\n",
              "            '<a target=\"_blank\" href=https://colab.research.google.com/notebooks/data_table.ipynb>data table notebook</a>'\n",
              "            + ' to learn more about interactive tables.';\n",
              "          element.innerHTML = '';\n",
              "          dataTable['output_type'] = 'display_data';\n",
              "          await google.colab.output.renderOutput(dataTable, element);\n",
              "          const docLink = document.createElement('div');\n",
              "          docLink.innerHTML = docLinkHtml;\n",
              "          element.appendChild(docLink);\n",
              "        }\n",
              "      </script>\n",
              "    </div>\n",
              "  </div>\n"
            ]
          },
          "metadata": {},
          "execution_count": 39
        }
      ]
    },
    {
      "cell_type": "markdown",
      "source": [
        "Our data seens normal. But to exemplify the step of the cleaning data process, we will explaing 3 possibilities of incorrect or incosistent entries:\n",
        "\n",
        "1. **Inconsistency detection**: This is typically done when the data is available from diﬀerent\n",
        "sources in diﬀerent formats. For example, a person’s name may be spelled out in full in\n",
        "one source, whereas the other source may only contain the initials and a last name. In\n",
        "such cases, the key issues are duplicate detection and inconsistency detection. These\n",
        "topics are studied under the general umbrella of data integration within the database\n",
        "ﬁeld.\n",
        "2. **Domain knowledge**: A signiﬁcant amount of domain knowledge is often available in\n",
        "terms of the ranges of the attributes or rules that specify the relationships across\n",
        "diﬀerent attributes. For example, if the country ﬁeld is “United States,” then the city\n",
        "ﬁeld cannot be “Shanghai.” Many data scrubbing and data auditing tools have been\n",
        "developed that use such domain knowledge and constraints to detect incorrect entries.\n",
        "3. **Data-centric methods**: In these cases, the statistical behavior of the data is used to\n",
        "detect outliers. For example, the two isolated data points in Fig. 2.1 marked as “noise”\n",
        "are outliers. These isolated points might have arisen because of errors in the data\n",
        "collection process. However, this may not always be the case because the anomalies\n",
        "may be the result of interesting behavior of the underlying system. Therefore, any\n",
        "detected outlier may need to be manually examined before it is discarded. The use of data-centric methods for cleaning can sometimes be dangerous because they can result in the removal of useful knowledge from the underlying system. The outlier detection\n",
        "problem is an important analytical technique in its own right."
      ],
      "metadata": {
        "id": "7u4AOXBQsIXy"
      }
    },
    {
      "cell_type": "markdown",
      "source": [
        "#### **Searching for Duplicates**\n",
        "\n",
        "There are cases where your rows have duplicate values, this could’ve happened due to some mishaps in your data collection."
      ],
      "metadata": {
        "id": "JdR7vSmvM3HS"
      }
    },
    {
      "cell_type": "code",
      "source": [
        "data.duplicated().any()\n"
      ],
      "metadata": {
        "colab": {
          "base_uri": "https://localhost:8080/"
        },
        "id": "9e5Avm4MaLKf",
        "outputId": "009733c4-6984-4ff8-fbc0-b542cb7d696a"
      },
      "execution_count": 44,
      "outputs": [
        {
          "output_type": "execute_result",
          "data": {
            "text/plain": [
              "False"
            ]
          },
          "metadata": {},
          "execution_count": 44
        }
      ]
    },
    {
      "cell_type": "markdown",
      "source": [
        "#### **Searching for Outliers**"
      ],
      "metadata": {
        "id": "I9esCwCkaQEv"
      }
    },
    {
      "cell_type": "code",
      "source": [
        "data['Views'].describe()"
      ],
      "metadata": {
        "colab": {
          "base_uri": "https://localhost:8080/"
        },
        "id": "zvIjOTx6aMon",
        "outputId": "1de7f457-b53c-4425-bd9c-dfab734ce002"
      },
      "execution_count": 45,
      "outputs": [
        {
          "output_type": "execute_result",
          "data": {
            "text/plain": [
              "count    1.984200e+04\n",
              "mean     9.571778e+07\n",
              "std      2.771295e+08\n",
              "min      0.000000e+00\n",
              "25%      2.001834e+06\n",
              "50%      1.532750e+07\n",
              "75%      7.207680e+07\n",
              "max      8.079649e+09\n",
              "Name: Views, dtype: float64"
            ]
          },
          "metadata": {},
          "execution_count": 45
        }
      ]
    },
    {
      "cell_type": "code",
      "source": [
        "import matplotlib.pyplot as plt"
      ],
      "metadata": {
        "id": "9as3z9Mdan1O"
      },
      "execution_count": 46,
      "outputs": []
    },
    {
      "cell_type": "code",
      "source": [
        "plt.figure(figsize=(10, 6))\n",
        "data.boxplot(column=['Views'])"
      ],
      "metadata": {
        "colab": {
          "base_uri": "https://localhost:8080/",
          "height": 554
        },
        "id": "QegSMPBnaX_N",
        "outputId": "49fe58f0-a39a-4a32-8968-dfa433af30ac"
      },
      "execution_count": 48,
      "outputs": [
        {
          "output_type": "execute_result",
          "data": {
            "text/plain": [
              "<Axes: >"
            ]
          },
          "metadata": {},
          "execution_count": 48
        },
        {
          "output_type": "display_data",
          "data": {
            "text/plain": [
              "<Figure size 1000x600 with 1 Axes>"
            ],
            "image/png": "[encoded data removed]"
          },
          "metadata": {}
        }
      ]
    },
    {
      "cell_type": "markdown",
      "source": [
        "Those outliers are worth investigating and are not necessarily incorrect data."
      ],
      "metadata": {
        "id": "3PvUsEWxdel7"
      }
    },
    {
      "cell_type": "markdown",
      "source": [
        "The data cleaning process can actually become broader and is certainly already considered one of the most important steps. When we work well cleaning the data we will be more successful in all the other steps that follow. There are already studies that demonstrate that simpler algorithms deliver better results applied to very clean data than complex algorithms applied to dirty data. In addition, the study of data supports decision-making within a company, therefore, the analyst's commitment to working well with the data grows more and more.\n"
      ],
      "metadata": {
        "id": "HAYypnTnj94f"
      }
    }
  ]
}